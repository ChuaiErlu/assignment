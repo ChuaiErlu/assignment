{
 "cells": [
  {
   "cell_type": "code",
   "execution_count": 1,
   "id": "6e3c43da",
   "metadata": {},
   "outputs": [],
   "source": [
    "import numpy as np\n",
    "import matplotlib.pyplot as plt"
   ]
  },
  {
   "cell_type": "code",
   "execution_count": 2,
   "id": "5405c2c0",
   "metadata": {},
   "outputs": [],
   "source": [
    "density1 = np.array([0.18145E+12,0.29911E+12,0.45850E+12,0.78415E+12,0.12427E+13,0.17868E+13,0.22596E+13,0.21888E+13,0.15952E+13,0.10654E+13\\\n",
    "                   ,0.71131E+12,0.48913E+12,0.34892E+12,0.25793E+12,0.19688E+12,0.15456E+12,0.12431E+12,0.10210E+12,0.85387E+11,0.72539E+11\\\n",
    "                   ,0.62472E+11,0.54450E+11,0.47961E+11,0.42639E+11,0.38221E+11,0.34514E+11,0.31372E+11,0.28684E+11,\\\n",
    "                   0.26367E+11,0.24354E+11,0.22592E+11,0.21042E+11,0.19668E+11,0.18446E+11,0.17352E+11,0.16368E+11,\\\n",
    "                   0.15480E+11,0.14675E+11,0.13943E+11])"
   ]
  },
  {
   "cell_type": "code",
   "execution_count": 3,
   "id": "84899e5b",
   "metadata": {},
   "outputs": [],
   "source": [
    "height = np.arange(100.00,2050.00,50.00)"
   ]
  },
  {
   "cell_type": "code",
   "execution_count": 4,
   "id": "99254b05",
   "metadata": {},
   "outputs": [
    {
     "name": "stdout",
     "output_type": "stream",
     "text": [
      "[ 100.  150.  200.  250.  300.  350.  400.  450.  500.  550.  600.  650.\n",
      "  700.  750.  800.  850.  900.  950. 1000. 1050. 1100. 1150. 1200. 1250.\n",
      " 1300. 1350. 1400. 1450. 1500. 1550. 1600. 1650. 1700. 1750. 1800. 1850.\n",
      " 1900. 1950. 2000.]\n"
     ]
    }
   ],
   "source": [
    "print(height)"
   ]
  },
  {
   "cell_type": "code",
   "execution_count": 5,
   "id": "6a6096cc",
   "metadata": {},
   "outputs": [],
   "source": [
    "density2 = np.array([0.16197E+12,0.35528E+12,0.69433E+12,0.13446E+13,0.21260E+13,0.25667E+13,0.21368E+13,0.14841E+13,\\\n",
    "                     0.98964E+12,0.67020E+12,0.46916E+12,0.34046E+12,0.25553E+12,0.19762E+12,0.15688E+12,0.12738E+12,\\\n",
    "                     0.10546E+12,0.88809E+11,0.75894E+11,0.65697E+11,0.57516E+11,0.50857E+11,0.45367E+11,0.40789E+11,\\\n",
    "                     0.36930E+11,0.33646E+11,0.30828E+11,0.28391E+11,0.26267E+11,0.24404E+11,0.22760E+11,0.21301E+11,\\\n",
    "                     0.19999E+11,0.18832E+11,0.17782E+11,0.16831E+11,0.15969E+11,0.15182E+11,0.14464E+11])"
   ]
  },
  {
   "cell_type": "code",
   "execution_count": 6,
   "id": "320e351b",
   "metadata": {},
   "outputs": [],
   "source": [
    "density3 = np.array([0.11650E+12,0.28225E+12,0.62604E+12,0.10131E+13,0.11885E+13,0.10473E+13,0.80318E+12,0.58536E+12,\\\n",
    "                     0.42404E+12,0.31146E+12,0.23367E+12,0.17939E+12,0.14081E+12,0.11282E+12,0.92094E+11,0.76432E+11,\\\n",
    "                     0.64381E+11,0.54950E+11,0.47454E+11,0.41413E+11,0.36483E+11,0.32411E+11,0.29013E+11,0.26150E+11,\\\n",
    "                     0.23716E+11,0.21630E+11,0.19829E+11,0.18263E+11,0.16893E+11,0.15688E+11,0.14620E+11,0.13671E+11,\\\n",
    "                     0.12823E+11,0.12062E+11,0.11376E+11,0.10755E+11,0.10191E+11,0.96772E+10,0.92075E+10])"
   ]
  },
  {
   "cell_type": "code",
   "execution_count": 19,
   "id": "58b11cf2",
   "metadata": {},
   "outputs": [
    {
     "data": {
      "image/png": "[encoded data removed]",
      "text/plain": [
       "<Figure size 432x288 with 1 Axes>"
      ]
     },
     "metadata": {
      "needs_background": "light"
     },
     "output_type": "display_data"
    }
   ],
   "source": [
    "# l1 = plt.plot.(density1,height,'ro-',label='135,0')\n",
    "# l2 = plt.plot(density2,height,'go-',label='135,30')\n",
    "# l3 = plt.plot(density3,height,'bo-',label='135,60')\n",
    "plt.semilogx(density1,height,'ro-',density2,height,'g+-',density3,height,'b^-')\n",
    "plt.ylabel('height')\n",
    "plt.xlabel('density')\n",
    "plt.legend(['135,0','135,30','135,60'])\n",
    "plt.show()"
   ]
  },
  {
   "cell_type": "code",
   "execution_count": 20,
   "id": "3e2e2efa",
   "metadata": {},
   "outputs": [],
   "source": [
    "###sec = 1/cos"
   ]
  },
  {
   "cell_type": "code",
   "execution_count": 40,
   "id": "29fb44c9",
   "metadata": {},
   "outputs": [],
   "source": [
    "def chapman(h,lati):\n",
    "    H = 8.0\n",
    "    h0 = 500\n",
    "    R = 6378.1\n",
    "    L = 149597870.0\n",
    "    costhita = (2*R**2-2*R*L*np.cos(lati)/(2*R*np.sqrt(R**2+L**2-2*R*L*np.cos(lati))))\n",
    "    secthita = -1/costhita\n",
    "    print(secthita)\n",
    "    z = (h-h0)/H\n",
    "    n = np.exp((1-z-secthita*np.exp(-z))/2)\n",
    "    return n"
   ]
  },
  {
   "cell_type": "code",
   "execution_count": 41,
   "id": "5005335a",
   "metadata": {},
   "outputs": [
    {
     "name": "stdout",
     "output_type": "stream",
     "text": [
      "-1.2291004040772098e-08\n",
      "-1.2291004040772098e-08\n",
      "-1.2291004040772098e-08\n",
      "-1.2291004040772098e-08\n",
      "-1.2291004040772098e-08\n",
      "-1.2291004040772098e-08\n",
      "-1.2291004040772098e-08\n",
      "-1.2291004040772098e-08\n",
      "-1.2291004040772098e-08\n",
      "-1.2291004040772098e-08\n",
      "-1.2291004040772098e-08\n",
      "-1.2291004040772098e-08\n",
      "-1.2291004040772098e-08\n",
      "-1.2291004040772098e-08\n",
      "-1.2291004040772098e-08\n",
      "-1.2291004040772098e-08\n",
      "-1.2291004040772098e-08\n",
      "-1.2291004040772098e-08\n",
      "-1.2291004040772098e-08\n",
      "-1.2291004040772098e-08\n",
      "-1.2291004040772098e-08\n",
      "-1.2291004040772098e-08\n",
      "-1.2291004040772098e-08\n",
      "-1.2291004040772098e-08\n",
      "-1.2291004040772098e-08\n",
      "-1.2291004040772098e-08\n",
      "-1.2291004040772098e-08\n",
      "-1.2291004040772098e-08\n",
      "-1.2291004040772098e-08\n",
      "-1.2291004040772098e-08\n",
      "-1.2291004040772098e-08\n",
      "-1.2291004040772098e-08\n",
      "-1.2291004040772098e-08\n",
      "-1.2291004040772098e-08\n",
      "-1.2291004040772098e-08\n",
      "-1.2291004040772098e-08\n",
      "-1.2291004040772098e-08\n",
      "-1.2291004040772098e-08\n",
      "-1.2291004040772098e-08\n",
      "[            inf             inf             inf             inf\n",
      " 6.66580706e+197 4.56718781e+004 8.55468325e+002 3.75248426e+001\n",
      " 1.64872128e+000 7.24397570e-002 3.18278080e-003 1.39841629e-004\n",
      " 6.14421235e-006 2.69957850e-007 1.18611202e-008 5.21141249e-010\n",
      " 2.28973485e-011 1.00603928e-012 4.42022810e-014 1.94211269e-015\n",
      " 8.53304763e-017 3.74915947e-018 1.64726571e-019 7.23758041e-021\n",
      " 3.17997090e-022 1.39718170e-023 6.13878798e-025 2.69719520e-026\n",
      " 1.18506486e-027 5.20681163e-029 2.28771337e-030 1.00515110e-031\n",
      " 4.41632574e-033 1.94039811e-034 8.52551428e-036 3.74584955e-037\n",
      " 1.64581143e-038 7.23119076e-040 3.17716348e-041]\n",
      "(39,)\n",
      "(39,)\n"
     ]
    },
    {
     "name": "stderr",
     "output_type": "stream",
     "text": [
      "C:\\Users\\CHUAIE~1\\AppData\\Local\\Temp/ipykernel_8692/3259163847.py:10: RuntimeWarning: overflow encountered in exp\n",
      "  n = np.exp((1-z-secthita*np.exp(-z))/2)\n"
     ]
    }
   ],
   "source": [
    "nlist = np.zeros_like(height)\n",
    "lati = 0\n",
    "for h in height:\n",
    "    i = int((h-100)/50)\n",
    "    nlist[i] = chapman(h,lati)\n",
    "print(nlist)\n",
    "print(nlist.shape)\n",
    "print(density1.shape)"
   ]
  },
  {
   "cell_type": "code",
   "execution_count": 42,
   "id": "ef4ed7d5",
   "metadata": {},
   "outputs": [
    {
     "name": "stdout",
     "output_type": "stream",
     "text": [
      "-1.2291003912999612e-08\n",
      "-1.2291003912999612e-08\n",
      "-1.2291003912999612e-08\n",
      "-1.2291003912999612e-08\n",
      "-1.2291003912999612e-08\n",
      "-1.2291003912999612e-08\n",
      "-1.2291003912999612e-08\n",
      "-1.2291003912999612e-08\n",
      "-1.2291003912999612e-08\n",
      "-1.2291003912999612e-08\n",
      "-1.2291003912999612e-08\n",
      "-1.2291003912999612e-08\n",
      "-1.2291003912999612e-08\n",
      "-1.2291003912999612e-08\n",
      "-1.2291003912999612e-08\n",
      "-1.2291003912999612e-08\n",
      "-1.2291003912999612e-08\n",
      "-1.2291003912999612e-08\n",
      "-1.2291003912999612e-08\n",
      "-1.2291003912999612e-08\n",
      "-1.2291003912999612e-08\n",
      "-1.2291003912999612e-08\n",
      "-1.2291003912999612e-08\n",
      "-1.2291003912999612e-08\n",
      "-1.2291003912999612e-08\n",
      "-1.2291003912999612e-08\n",
      "-1.2291003912999612e-08\n",
      "-1.2291003912999612e-08\n",
      "-1.2291003912999612e-08\n",
      "-1.2291003912999612e-08\n",
      "-1.2291003912999612e-08\n",
      "-1.2291003912999612e-08\n",
      "-1.2291003912999612e-08\n",
      "-1.2291003912999612e-08\n",
      "-1.2291003912999612e-08\n",
      "-1.2291003912999612e-08\n",
      "-1.2291003912999612e-08\n",
      "-1.2291003912999612e-08\n",
      "-1.2291003912999612e-08\n",
      "[            inf             inf             inf             inf\n",
      " 6.66577640e+197 4.56718777e+004 8.55468325e+002 3.75248426e+001\n",
      " 1.64872128e+000 7.24397570e-002 3.18278080e-003 1.39841629e-004\n",
      " 6.14421235e-006 2.69957850e-007 1.18611202e-008 5.21141249e-010\n",
      " 2.28973485e-011 1.00603928e-012 4.42022810e-014 1.94211269e-015\n",
      " 8.53304763e-017 3.74915947e-018 1.64726571e-019 7.23758041e-021\n",
      " 3.17997090e-022 1.39718170e-023 6.13878798e-025 2.69719520e-026\n",
      " 1.18506486e-027 5.20681163e-029 2.28771337e-030 1.00515110e-031\n",
      " 4.41632574e-033 1.94039811e-034 8.52551428e-036 3.74584955e-037\n",
      " 1.64581143e-038 7.23119076e-040 3.17716348e-041]\n"
     ]
    },
    {
     "name": "stderr",
     "output_type": "stream",
     "text": [
      "C:\\Users\\CHUAIE~1\\AppData\\Local\\Temp/ipykernel_8692/3259163847.py:10: RuntimeWarning: overflow encountered in exp\n",
      "  n = np.exp((1-z-secthita*np.exp(-z))/2)\n"
     ]
    }
   ],
   "source": [
    "nlist2 = np.zeros_like(height)\n",
    "lati2 = 30\n",
    "for h in height:\n",
    "    k = int((h-100)/50)\n",
    "    nlist2[k] = chapman(h,lati=lati2)\n",
    "print(nlist2)"
   ]
  },
  {
   "cell_type": "code",
   "execution_count": 43,
   "id": "b497a654",
   "metadata": {},
   "outputs": [
    {
     "name": "stdout",
     "output_type": "stream",
     "text": [
      "-1.229100374582286e-08\n",
      "-1.229100374582286e-08\n",
      "-1.229100374582286e-08\n",
      "-1.229100374582286e-08\n",
      "-1.229100374582286e-08\n",
      "-1.229100374582286e-08\n",
      "-1.229100374582286e-08\n",
      "-1.229100374582286e-08\n",
      "-1.229100374582286e-08\n",
      "-1.229100374582286e-08\n",
      "-1.229100374582286e-08\n",
      "-1.229100374582286e-08\n",
      "-1.229100374582286e-08\n",
      "-1.229100374582286e-08\n",
      "-1.229100374582286e-08\n",
      "-1.229100374582286e-08\n",
      "-1.229100374582286e-08\n",
      "-1.229100374582286e-08\n",
      "-1.229100374582286e-08\n",
      "-1.229100374582286e-08\n",
      "-1.229100374582286e-08\n",
      "-1.229100374582286e-08\n",
      "-1.229100374582286e-08\n",
      "-1.229100374582286e-08\n",
      "-1.229100374582286e-08\n",
      "-1.229100374582286e-08\n",
      "-1.229100374582286e-08\n",
      "-1.229100374582286e-08\n",
      "-1.229100374582286e-08\n",
      "-1.229100374582286e-08\n",
      "-1.229100374582286e-08\n",
      "-1.229100374582286e-08\n",
      "-1.229100374582286e-08\n",
      "-1.229100374582286e-08\n",
      "-1.229100374582286e-08\n",
      "-1.229100374582286e-08\n",
      "-1.229100374582286e-08\n",
      "-1.229100374582286e-08\n",
      "-1.229100374582286e-08\n",
      "[            inf             inf             inf             inf\n",
      " 6.66573628e+197 4.56718772e+004 8.55468325e+002 3.75248426e+001\n",
      " 1.64872128e+000 7.24397570e-002 3.18278080e-003 1.39841629e-004\n",
      " 6.14421235e-006 2.69957850e-007 1.18611202e-008 5.21141249e-010\n",
      " 2.28973485e-011 1.00603928e-012 4.42022810e-014 1.94211269e-015\n",
      " 8.53304763e-017 3.74915947e-018 1.64726571e-019 7.23758041e-021\n",
      " 3.17997090e-022 1.39718170e-023 6.13878798e-025 2.69719520e-026\n",
      " 1.18506486e-027 5.20681163e-029 2.28771337e-030 1.00515110e-031\n",
      " 4.41632574e-033 1.94039811e-034 8.52551428e-036 3.74584955e-037\n",
      " 1.64581143e-038 7.23119076e-040 3.17716348e-041]\n"
     ]
    },
    {
     "name": "stderr",
     "output_type": "stream",
     "text": [
      "C:\\Users\\CHUAIE~1\\AppData\\Local\\Temp/ipykernel_8692/3259163847.py:10: RuntimeWarning: overflow encountered in exp\n",
      "  n = np.exp((1-z-secthita*np.exp(-z))/2)\n"
     ]
    }
   ],
   "source": [
    "nlist3 = np.zeros_like(height)\n",
    "lati3 = 60\n",
    "for h in height:\n",
    "    i = int((h-100)/50)\n",
    "    nlist3[i] = chapman(h,lati=lati3)\n",
    "print(nlist3)"
   ]
  },
  {
   "cell_type": "code",
   "execution_count": 44,
   "id": "122b9565",
   "metadata": {},
   "outputs": [
    {
     "data": {
      "image/png": "[encoded data removed]",
      "text/plain": [
       "<Figure size 432x288 with 1 Axes>"
      ]
     },
     "metadata": {
      "needs_background": "light"
     },
     "output_type": "display_data"
    }
   ],
   "source": [
    "plt.plot(nlist,height,'ro-',nlist2,height,'g+-',nlist3,height,'b^-')\n",
    "plt.ylabel('height')\n",
    "plt.xlabel('density')\n",
    "plt.legend(['135,0','135,30','135,60'])\n",
    "plt.show()"
   ]
  },
  {
   "cell_type": "code",
   "execution_count": null,
   "id": "f6a46567",
   "metadata": {},
   "outputs": [],
   "source": []
  },
  {
   "cell_type": "code",
   "execution_count": null,
   "id": "bb59bcf5",
   "metadata": {},
   "outputs": [],
   "source": []
  }
 ],
 "metadata": {
  "kernelspec": {
   "display_name": "Python 3 (ipykernel)",
   "language": "python",
   "name": "python3"
  },
  "language_info": {
   "codemirror_mode": {
    "name": "ipython",
    "version": 3
   },
   "file_extension": ".py",
   "mimetype": "text/x-python",
   "name": "python",
   "nbconvert_exporter": "python",
   "pygments_lexer": "ipython3",
   "version": "3.9.7"
  }
 },
 "nbformat": 4,
 "nbformat_minor": 5
}
