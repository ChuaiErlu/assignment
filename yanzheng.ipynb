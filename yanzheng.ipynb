{
 "cells": [
  {
   "cell_type": "code",
   "execution_count": 1,
   "id": "85709705",
   "metadata": {},
   "outputs": [],
   "source": [
    "import numpy as np\n",
    "import scipy.io as scio"
   ]
  },
  {
   "cell_type": "code",
   "execution_count": 2,
   "id": "819dce8e",
   "metadata": {},
   "outputs": [],
   "source": [
    "mtxfile = \"/am/raid00/chuai/Desktop/homework/Allparas.mat\""
   ]
  },
  {
   "cell_type": "code",
   "execution_count": 3,
   "id": "16f3f765",
   "metadata": {},
   "outputs": [],
   "source": [
    "mtx = scio.loadmat(mtxfile)"
   ]
  },
  {
   "cell_type": "code",
   "execution_count": 7,
   "id": "e496db70",
   "metadata": {},
   "outputs": [
    {
     "name": "stdout",
     "output_type": "stream",
     "text": [
      "[[5.73609099 0.         0.         ... 0.         0.         0.        ]\n",
      " [0.         4.99892137 0.         ... 0.         0.         0.        ]\n",
      " [0.         0.         4.18603855 ... 0.         0.         0.        ]\n",
      " ...\n",
      " [0.         0.         0.         ... 0.         0.         0.        ]\n",
      " [0.         0.         0.         ... 0.         0.         0.        ]\n",
      " [0.         0.         0.         ... 0.         0.         0.        ]]\n",
      "[[0.17433475 0.         0.         ... 0.         0.         0.        ]\n",
      " [0.         0.20004315 0.         ... 0.         0.         0.        ]\n",
      " [0.         0.         0.23888934 ... 0.         0.         0.        ]\n",
      " ...\n",
      " [0.         0.         0.         ... 0.         0.         0.        ]\n",
      " [0.         0.         0.         ... 0.         0.         0.        ]\n",
      " [0.         0.         0.         ... 0.         0.         0.        ]]\n",
      "(256, 8)\n",
      "(256, 256)\n",
      "[[-2.38046309e-01 -3.91778481e-02 -7.29908329e-02 ...  3.37790960e-03\n",
      "   0.00000000e+00 -2.50950852e-01]\n",
      " [ 1.58010709e-18 -2.79432295e-18 -6.09292835e-18 ... -2.16840434e-19\n",
      "   0.00000000e+00  2.16840434e-19]\n",
      " [ 2.98985760e-18 -3.53695467e-18 -1.53178949e-17 ...  1.62178245e-03\n",
      "   0.00000000e+00  1.04019587e-02]\n",
      " ...\n",
      " [-1.72616857e-02  3.28048907e-03  1.25537047e-01 ...  9.36553678e-01\n",
      "   0.00000000e+00  2.66113841e-03]\n",
      " [ 0.00000000e+00  0.00000000e+00  0.00000000e+00 ...  0.00000000e+00\n",
      "   1.00000000e+00  0.00000000e+00]\n",
      " [-2.38046309e-01 -3.91778481e-02 -7.29908329e-02 ...  3.37790960e-03\n",
      "   0.00000000e+00  9.49049148e-01]]\n"
     ]
    }
   ],
   "source": [
    "U = mtx['U']\n",
    "V = mtx['V']\n",
    "S = mtx['S']\n",
    "# print(S)\n",
    "# print(S.shape)\n",
    "for i in np.arange(7):\n",
    "    S[i,i]=1/S[i,i]\n",
    "print(S)\n",
    "S_ = S.T\n",
    "T = mtx['T']\n",
    "print(T)\n",
    "print(S_.shape)\n",
    "print(V.shape)\n",
    "print(V)"
   ]
  },
  {
   "cell_type": "code",
   "execution_count": 10,
   "id": "4c1a4da1",
   "metadata": {},
   "outputs": [],
   "source": [
    "A_ = np.dot(np.dot(V,S_),U.T)"
   ]
  },
  {
   "cell_type": "code",
   "execution_count": 12,
   "id": "061e4556",
   "metadata": {},
   "outputs": [
    {
     "name": "stdout",
     "output_type": "stream",
     "text": [
      "(256, 1)\n"
     ]
    }
   ],
   "source": [
    "Y = mtx['Y']\n",
    "Xe = np.dot(A_,Y)\n",
    "print(Xe.shape)"
   ]
  },
  {
   "cell_type": "code",
   "execution_count": 15,
   "id": "18d48b9e",
   "metadata": {},
   "outputs": [],
   "source": [
    "import matplotlib.pyplot as plt"
   ]
  },
  {
   "cell_type": "code",
   "execution_count": 16,
   "id": "750f5112",
   "metadata": {},
   "outputs": [
    {
     "data": {
      "text/plain": [
       "<matplotlib.colorbar.Colorbar at 0x149c697ad760>"
      ]
     },
     "execution_count": 16,
     "metadata": {},
     "output_type": "execute_result"
    },
    {
     "data": {
      "image/png": "[encoded data removed]",
      "text/plain": [
       "<Figure size 432x288 with 2 Axes>"
      ]
     },
     "metadata": {
      "needs_background": "light"
     },
     "output_type": "display_data"
    }
   ],
   "source": [
    "Xe = Xe.reshape(16,16)\n",
    "plt.imshow(Xe)\n",
    "plt.colorbar()\n"
   ]
  },
  {
   "cell_type": "code",
   "execution_count": 17,
   "id": "4ebd66a6",
   "metadata": {},
   "outputs": [
    {
     "name": "stdout",
     "output_type": "stream",
     "text": [
      "[[-9.65522694e-01 -1.38484729e-01 -2.16051131e-01 -0.00000000e+00\n",
      "  -0.00000000e+00 -0.00000000e+00 -4.37014289e-02 -0.00000000e+00]\n",
      " [-6.64469888e-02  9.34583209e-01 -2.53423264e-01  2.81955600e-16\n",
      "   1.92428367e-16 -8.31083518e-16 -2.40656752e-01 -5.01327031e-17]\n",
      " [-1.04574067e-01  1.63430686e-01  2.90168882e-01 -3.28417646e-01\n",
      "  -4.88560276e-01 -4.86604603e-01  3.57989798e-01 -4.08248290e-01]\n",
      " [-1.04574067e-01  1.63430686e-01  2.90168882e-01  7.17761375e-01\n",
      "  -2.54647319e-01 -5.75037784e-02  3.57989798e-01  4.08248290e-01]\n",
      " [-9.90145998e-02  1.63989069e-02  5.25502920e-01  3.44526007e-01\n",
      "   3.77306570e-01 -2.68839946e-01 -4.62356860e-01 -4.08248290e-01]\n",
      " [-9.90145998e-02  1.63989069e-02  5.25502920e-01 -3.44526007e-01\n",
      "  -3.77306570e-01  2.68839946e-01 -4.62356860e-01  4.08248290e-01]\n",
      " [-1.04574067e-01  1.63430686e-01  2.90168882e-01 -1.61083609e-02\n",
      "   1.11253707e-01  7.55444549e-01  3.57989798e-01 -4.08248290e-01]\n",
      " [-1.04574067e-01  1.63430686e-01  2.90168882e-01 -3.73235369e-01\n",
      "   6.31953889e-01 -2.11336168e-01  3.57989798e-01  4.08248290e-01]]\n"
     ]
    }
   ],
   "source": [
    "print(U)"
   ]
  },
  {
   "cell_type": "code",
   "execution_count": null,
   "id": "935a1e93",
   "metadata": {},
   "outputs": [],
   "source": []
  }
 ],
 "metadata": {
  "kernelspec": {
   "display_name": "Python 3 (ipykernel)",
   "language": "python",
   "name": "python3"
  },
  "language_info": {
   "codemirror_mode": {
    "name": "ipython",
    "version": 3
   },
   "file_extension": ".py",
   "mimetype": "text/x-python",
   "name": "python",
   "nbconvert_exporter": "python",
   "pygments_lexer": "ipython3",
   "version": "3.9.12"
  }
 },
 "nbformat": 4,
 "nbformat_minor": 5
}
