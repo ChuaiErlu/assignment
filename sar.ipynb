{
 "cells": [
  {
   "cell_type": "code",
   "execution_count": 2,
   "id": "c61cc7af",
   "metadata": {},
   "outputs": [],
   "source": [
    "# import numpy as np\n",
    "# import math\n",
    "# import cmath\n",
    "# import pylab\n",
    "# pylab.mpl.rcParams['font.sans-serif'] = ['SimHei']\n",
    "# pylab.mpl.rcParams['axes.unicode_minus']=False    #用来正常显示负号\n",
    "# ## 参数设置\n",
    "# M = 256                 # 矩阵高度\n",
    "# N = 256                 # 矩阵宽度\n",
    "# top = M/8+1 \n",
    "# bottom = M*7/8 \n",
    "# left = N/8+1 \n",
    "# right = N*7/8 \n",
    "# theta = math.pi/12           # 扭曲或旋转角度\n",
    "\n",
    "# ## 生成信号\n",
    "# # 原始信号\n",
    "# S0 = np.zeros((M,N))\n",
    "# S0[int(top):int(bottom),int(left):int(right)] = 1 \n",
    "# #S0[256/8+1:256*7/8 ,256/8+1:256*7/8] = 1 \n",
    "# # 扭曲信号\n",
    "# S1 = np.zeros((M,N)) \n",
    "# for ii in range(0,M):\n",
    "#     for jj in range(0,N):\n",
    "#         x = jj-N/2 \n",
    "#         y = (M+1-ii)-M/2 \n",
    "#         xx = round(x+N/2)\n",
    "#         yy = M+1-round(x*math.sin(-theta)+y*math.cos(-theta)+M/2)\n",
    "#         if(yy>=0 and yy<= M-1):\n",
    "#             S1[ii,jj] = S0[yy,xx]\n",
    "# # 旋转信号\n",
    "# S2 = np.zeros((M,N)) \n",
    "# for ii in range(0,M):\n",
    "#     for jj in range(0,N):\n",
    "#         x = jj-N/2 \n",
    "#         y = (M+1-ii)-M/2 \n",
    "#         xx = round(x*math.cos(-theta)-y*math.sin(-theta)+N/2) \n",
    "#         yy = M+1-round(x*math.sin(-theta)+y*math.cos(-theta)+M/2) \n",
    "#         if(xx>=0 and xx<= N-1 and yy>=0 and yy<=M-1):\n",
    "#             S2[ii,jj] = S0[yy,xx] \n",
    "# ## 二维傅里叶变换\n",
    "# # 原始信号的二维傅里叶变换\n",
    "# S0_ff = np.fft.fftshift(np.fft.fft2(np.fft.fftshift(S0))) \n",
    "# S0_ff = abs(S0_ff) \n",
    "# S0_ff = S0_ff/S0_ff.max() \n",
    "# S0_ff = 20*np.log10(S0_ff+1e-4) \n",
    "# # 原始信号二维傅里叶变换\n",
    "# S1_ff = np.fft.fftshift(np.fft.fft2(np.fft.fftshift(S1))) \n",
    "# S1_ff = abs(S1_ff) \n",
    "# S1_ff = S1_ff/S1_ff.max() \n",
    "# S1_ff = 20*np.log10(S1_ff+1e-4) \n",
    "# # 原始信号二维傅里叶变换\n",
    "# S2_ff = np.fft.fftshift(np.fft.fft2(np.fft.fftshift(S2))) \n",
    "# S2_ff = abs(S2_ff) \n",
    "# S2_ff = S2_ff/S2_ff.max() \n",
    "# S2_ff = 20*np.log10(S2_ff+1e-4) \n",
    "\n",
    "# ## 画图\n",
    "# pylab.figure(1)\n",
    "# pylab.plt.subplot(2,3,1)\n",
    "# pylab.pcolormesh(S0,cmap='jet')\n",
    "# pylab.plt.gca().invert_yaxis()\n",
    "# pylab.title('（a）时域，原始信号')\n",
    "# pylab.plt.subplot(2,3,4)\n",
    "# pylab.pcolormesh(S0_ff,cmap='jet')\n",
    "# pylab.plt.gca().invert_yaxis()\n",
    "# pylab.title('（b）原始信号频谱')\n",
    "# pylab.plt.subplot(2,3,2)\n",
    "# pylab.pcolormesh(S1,cmap='jet')\n",
    "# pylab.plt.gca().invert_yaxis()\n",
    "# pylab.title('（c）时域，扭曲信号')\n",
    "# pylab.plt.subplot(2,3,5)\n",
    "# pylab.pcolormesh(S1_ff,cmap='jet')\n",
    "# pylab.plt.gca().invert_yaxis()\n",
    "# pylab.title('（d）扭曲信号频谱')\n",
    "# pylab.plt.subplot(2,3,3)\n",
    "# pylab.pcolormesh(S2,cmap='jet')\n",
    "# pylab.plt.gca().invert_yaxis()\n",
    "# pylab.title('（e）时域，旋转信号')\n",
    "# pylab.plt.subplot(2,3,6)\n",
    "# pylab.pcolormesh(S2_ff,cmap='jet')\n",
    "# pylab.plt.gca().invert_yaxis()\n",
    "# pylab.title('（f）旋转信号频谱')\n",
    "# pylab.show()"
   ]
  },
  {
   "cell_type": "code",
   "execution_count": 3,
   "id": "07da0dfd",
   "metadata": {},
   "outputs": [],
   "source": [
    "import scipy as sci\n",
    "import numpy as np\n",
    "import math"
   ]
  },
  {
   "cell_type": "code",
   "execution_count": 6,
   "id": "830dcba7",
   "metadata": {},
   "outputs": [],
   "source": [
    "c = 3e8   #光速\n",
    "fc = 5e9   #载波频率\n",
    "B = 200e6;  #带宽\n",
    "lamda = c/fc   #波长\n",
    "Tp = 1.5e-6    #脉宽\n",
    "Kr = B/Tp   #调频率\n",
    "fs = 1.6*B    #采样率\n",
    "\n",
    "H = 200    #飞机高度\n",
    "Ls = 200    #合成孔径长度\n",
    "v = 100    #飞机速度\n",
    "Lt = Ls/v    #合成孔径时间\n",
    "\n",
    "# 成像区域[Xc-X0,Xc+X0; Yc-Y0,Yc+Y0]\n",
    "# 以合成孔径中心为原点，距离向为x轴，方位向为y轴\n",
    "Xc = 10000\n",
    "Yc = 0\n",
    "Xo = 100\n",
    "Yo =100\n",
    "\n",
    "Rc =np.sqrt(H^2+Xc^2)     #中心距离\n",
    "Ka = 2*v**2/(Rc*lamda)   #多普勒调频率\n",
    "Bmax = Lt*Ka           #多普勒最大带宽\n",
    "fa = math.ceil(3*Bmax)      #脉冲重复频率"
   ]
  },
  {
   "cell_type": "code",
   "execution_count": 57,
   "id": "8faf15e9",
   "metadata": {},
   "outputs": [
    {
     "name": "stdout",
     "output_type": "stream",
     "text": [
      "(79211,)\n",
      "(1, 21823)\n",
      "float64\n",
      "[[-8.90915343e-08 -8.59665343e-08 -8.28415343e-08 ...  6.80984085e-05\n",
      "   6.81015335e-05  6.81046585e-05]]\n",
      "(79211,)\n"
     ]
    }
   ],
   "source": [
    "Rmin = np.sqrt(H^2+(Xc-Xo)^2)   #观测场景距飞机的最近距离\n",
    "Rmax = np.sqrt((Xc+Xo)**2+H**2+(Yc+Yo+Ls/2)**2)  #最远距离\n",
    "rm = Ls + 2*Yo    #雷达走过的总路程长度\n",
    "tm= np.arange(0,rm/v-1/fa,1/fa)               #慢时间（合成孔径时间+成像区域时间）\n",
    "tk= np.arange(2*Rmin/c-Tp/2,2*Rmax/c-1/fs+Tp/2,1/fs)       #快时间（距离门内）\n",
    "tk = np.array([tk])\n",
    "# print(len(tm))\n",
    "# print(len(tk))\n",
    "# print(len(target))\n",
    "target = np.array([[Xc,Yc,0],[Xc+80,Yc+45,0],[Xc-20,Yc-20,0]])        #目标坐标\n",
    "echo = np.zeros((len(tm),len(tk),len(target)))  #回波\n",
    "echo_all = np.zeros((len(tm),len(tk)));\n",
    "y = -v*(rm/v)/2+v*tm              #飞机y轴坐标\n",
    "print(y.shape)\n",
    "print(tk.shape)\n",
    "print(tk.dtype)\n",
    "print(tk)\n",
    "print(tm.shape)"
   ]
  },
  {
   "cell_type": "code",
   "execution_count": 43,
   "id": "253303fc",
   "metadata": {},
   "outputs": [],
   "source": [
    "def rectpulse(x,Nsamp):\n",
    "    '''\n",
    "    RECTPULSE Rectangular pulse shaping.     矩形脉冲矩形脉冲整形。\n",
    "    Y = RECTPULSE(X,NSAMP) returns Y, a rectangular pulse shaped version of X, X的矩形脉冲形版本\n",
    "    with NSAMP samples per symbol. This function replicates each symbol in  每个符号具有NSAMP样本。此函数以X NSAMP次复制每个符号。\n",
    "    X NSAMP times. To insert zeros between each sample of X, see UPSAMPLE. 要在X的每个采样之间插入零，请参见上采样。\n",
    "    For two-dimensional signals, the function treats each column as 1 channel. 对于二维信号，该函数将每列视为1个通道。\n",
    "\n",
    "\n",
    "    See also INTDUMP, UPSAMPLE, GAUSSFIR.      另请参见INTDUMP、UPSAMPLE、GAUSSFIR。\n",
    "\n",
    "    Copyright 1996-2011 The MathWorks, Inc.\n",
    "\n",
    "    Check x, Nsamp\n",
    "    '''\n",
    "    (wid, leng) = x.shape\n",
    "    if ((wid == 1)&(len!=1)):\n",
    "        a1 = np.ones((Nsamp, 1)) * x.reshape((1, wid * leng))\n",
    "        y = (np.ones((Nsamp, 1)) * x.reshape((1, wid * leng))).reshape((wid, leng * Nsamp))\n",
    "    else:\n",
    "        a1 = np.ones((Nsamp, 1)) * x.reshape((1, wid * leng))\n",
    "        y = (np.ones((Nsamp, 1)) * x.reshape((1, wid * leng))).reshape((wid * Nsamp,leng))\n",
    "\n",
    "    return y\n",
    "# def rect_wave(x,c,c0):     #起点为c0，宽度为c的矩形波\n",
    "#     if x>=(c+c0):\n",
    "#           r=0.0\n",
    "#     elif x<c0:\n",
    "#           r=0.0\n",
    "#     else:\n",
    "#           r=1\n",
    "#     return r"
   ]
  },
  {
   "cell_type": "code",
   "execution_count": 58,
   "id": "5eaf8d14",
   "metadata": {
    "scrolled": true
   },
   "outputs": [
    {
     "ename": "ValueError",
     "evalue": "operands could not be broadcast together with shapes (0,) (1,10475040) ",
     "output_type": "error",
     "traceback": [
      "\u001b[0;31m---------------------------------------------------------------------------\u001b[0m",
      "\u001b[0;31mValueError\u001b[0m                                Traceback (most recent call last)",
      "Input \u001b[0;32mIn [58]\u001b[0m, in \u001b[0;36m<cell line: 1>\u001b[0;34m()\u001b[0m\n\u001b[1;32m      5\u001b[0m     arr \u001b[38;5;241m=\u001b[39m np\u001b[38;5;241m.\u001b[39mabs(target[k\u001b[38;5;241m-\u001b[39m\u001b[38;5;241m1\u001b[39m,\u001b[38;5;241m2\u001b[39m]\u001b[38;5;241m-\u001b[39my[i\u001b[38;5;241m-\u001b[39m\u001b[38;5;241m1\u001b[39m])\u001b[38;5;241m/\u001b[39mXc\n\u001b[1;32m      6\u001b[0m     tk\u001b[38;5;241m-\u001b[39m\u001b[38;5;241m2\u001b[39m\u001b[38;5;241m*\u001b[39mRtm\u001b[38;5;241m/\u001b[39mc\n\u001b[0;32m----> 7\u001b[0m     echo[i,:,k\u001b[38;5;241m-\u001b[39m\u001b[38;5;241m1\u001b[39m]\u001b[38;5;241m=\u001b[39m\u001b[43marr\u001b[49m\u001b[43m[\u001b[49m\u001b[43marr\u001b[49m\u001b[38;5;241;43m<\u001b[39;49m\u001b[38;5;241;43m0.01\u001b[39;49m\u001b[43m]\u001b[49m\u001b[38;5;241;43m*\u001b[39;49m\u001b[43mrectpulse\u001b[49m\u001b[43m(\u001b[49m\u001b[43mtk\u001b[49m\u001b[38;5;241;43m-\u001b[39;49m\u001b[38;5;241;43m2\u001b[39;49m\u001b[38;5;241;43m*\u001b[39;49m\u001b[43mRtm\u001b[49m\u001b[38;5;241;43m/\u001b[39;49m\u001b[43mc\u001b[49m\u001b[43m,\u001b[49m\u001b[38;5;28;43mint\u001b[39;49m\u001b[43m(\u001b[49m\u001b[43mTp\u001b[49m\u001b[38;5;241;43m*\u001b[39;49m\u001b[43mfs\u001b[49m\u001b[43m)\u001b[49m\u001b[43m)\u001b[49m\u001b[38;5;241m*\u001b[39mnp\u001b[38;5;241m.\u001b[39mexp(\u001b[38;5;241m1\u001b[39mj\u001b[38;5;241m*\u001b[39m\u001b[38;5;241m2\u001b[39m\u001b[38;5;241m*\u001b[39mnp\u001b[38;5;241m.\u001b[39mpi\u001b[38;5;241m*\u001b[39mfc\u001b[38;5;241m*\u001b[39m(tk\u001b[38;5;241m-\u001b[39m\u001b[38;5;241m2\u001b[39m\u001b[38;5;241m*\u001b[39mRtm\u001b[38;5;241m/\u001b[39mc)\u001b[38;5;241m+\u001b[39m\u001b[38;5;241m1\u001b[39mj\u001b[38;5;241m*\u001b[39mnp\u001b[38;5;241m.\u001b[39mpi\u001b[38;5;241m*\u001b[39mKr\u001b[38;5;241m*\u001b[39m(tk\u001b[38;5;241m-\u001b[39m\u001b[38;5;241m2\u001b[39m\u001b[38;5;241m*\u001b[39mRtm\u001b[38;5;241m/\u001b[39mc)\u001b[38;5;241m*\u001b[39m\u001b[38;5;241m*\u001b[39m\u001b[38;5;241m2\u001b[39m) \u001b[38;5;66;03m#回波模型\u001b[39;00m\n\u001b[1;32m      8\u001b[0m           \u001b[38;5;66;03m#注意上边为什么是tk-tr(i)-Tp/2，而不是tk-tr(i)\u001b[39;00m\n\u001b[1;32m      9\u001b[0m echo_all \u001b[38;5;241m=\u001b[39m echo[:,:,k] \u001b[38;5;241m+\u001b[39m echo_all\n",
      "\u001b[0;31mValueError\u001b[0m: operands could not be broadcast together with shapes (0,) (1,10475040) "
     ]
    }
   ],
   "source": [
    "for k in range(1,4):  #目标数\n",
    "    for i in range(1,len(tm)+1):   #慢时间轴\n",
    "        radar = np.array([0,y[i-1],H])      #飞机坐标\n",
    "        Rtm = np.sqrt(sum((target[k-1]-radar)**2))\n",
    "        arr = np.abs(target[k-1,2]-y[i-1])/Xc\n",
    "        tk-2*Rtm/c\n",
    "        echo[i,:,k-1]=arr[arr<0.01]*rectpulse(tk-2*Rtm/c,int(Tp*fs))*np.exp(1j*2*np.pi*fc*(tk-2*Rtm/c)+1j*np.pi*Kr*(tk-2*Rtm/c)**2) #回波模型\n",
    "              #注意上边为什么是tk-tr(i)-Tp/2，而不是tk-tr(i)\n",
    "    echo_all = echo[:,:,k] + echo_all"
   ]
  },
  {
   "cell_type": "code",
   "execution_count": 51,
   "id": "3b890391",
   "metadata": {},
   "outputs": [
    {
     "name": "stdout",
     "output_type": "stream",
     "text": [
      "1\n",
      "2\n",
      "3\n",
      "4\n"
     ]
    }
   ],
   "source": [
    "for ii in range(1,5):\n",
    "    print(ii)\n",
    "    "
   ]
  },
  {
   "cell_type": "code",
   "execution_count": null,
   "id": "5aa6f918",
   "metadata": {},
   "outputs": [],
   "source": []
  }
 ],
 "metadata": {
  "kernelspec": {
   "display_name": "Python 3 (ipykernel)",
   "language": "python",
   "name": "python3"
  },
  "language_info": {
   "codemirror_mode": {
    "name": "ipython",
    "version": 3
   },
   "file_extension": ".py",
   "mimetype": "text/x-python",
   "name": "python",
   "nbconvert_exporter": "python",
   "pygments_lexer": "ipython3",
   "version": "3.9.12"
  }
 },
 "nbformat": 4,
 "nbformat_minor": 5
}
