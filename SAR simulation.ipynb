{
 "cells": [
  {
   "cell_type": "code",
   "execution_count": 1,
   "id": "3f1834f9",
   "metadata": {},
   "outputs": [],
   "source": [
    "import scipy as sci\n",
    "import numpy as np\n",
    "import math"
   ]
  },
  {
   "cell_type": "code",
   "execution_count": 2,
   "id": "97d48d3b",
   "metadata": {},
   "outputs": [
    {
     "data": {
      "text/plain": [
       "'\\nc:light velocity\\nf0:radar frequency\\nlamda:wave length\\nH:hight\\nYc:midle line of detected area\\nR0:hypotenuse length\\n'"
      ]
     },
     "execution_count": 2,
     "metadata": {},
     "output_type": "execute_result"
    }
   ],
   "source": [
    "c = 3e8\n",
    "f0 = 9.875e9\n",
    "lamda = c/f0\n",
    "H = 500e3\n",
    "Yc = 750e3\n",
    "R0 = np.sqrt(Yc**2+H**2)\n",
    "'''\n",
    "c:light velocity\n",
    "f0:radar frequency\n",
    "lamda:wave length\n",
    "H:hight\n",
    "Yc:midle line of detected area\n",
    "R0:hypotenuse length\n",
    "'''"
   ]
  },
  {
   "cell_type": "code",
   "execution_count": 3,
   "id": "b4248a6e",
   "metadata": {},
   "outputs": [
    {
     "name": "stdout",
     "output_type": "stream",
     "text": [
      "901387.8188659974\n"
     ]
    }
   ],
   "source": [
    "print(R0)"
   ]
  },
  {
   "cell_type": "code",
   "execution_count": 4,
   "id": "f8b842ea",
   "metadata": {},
   "outputs": [],
   "source": [
    "import numpy as np\n",
    "def nextpow2(n):\n",
    "    '''\n",
    "    求最接近数据长度的2的整数次方\n",
    "    An integer equal to 2 that is closest to the length of the data\n",
    "    \n",
    "    Eg: \n",
    "    nextpow2(2) = 1\n",
    "    nextpow2(2**10+1) = 11\n",
    "    nextpow2(2**20+1) = 21\n",
    "    '''\n",
    "    return np.ceil(np.log2(np.abs(n))).astype('long')"
   ]
  },
  {
   "cell_type": "code",
   "execution_count": 5,
   "id": "ce83fa1b",
   "metadata": {},
   "outputs": [],
   "source": [
    "theta = np.arcsin(H/R0)\n",
    "alpha = 30\n",
    "Rc = R0/np.cos(alpha)\n",
    "Xc = R0*np.tan(alpha)\n",
    "Br = 30e6\n",
    "Vr = 7100\n",
    "Tr = 20e-6\n",
    "Kr = Br/Tr\n",
    "Fr = 1.2*Br\n",
    "Ts = 1/Fr"
   ]
  },
  {
   "cell_type": "code",
   "execution_count": 10,
   "id": "9fc5090d",
   "metadata": {},
   "outputs": [],
   "source": [
    "Nk = math.ceil((2*1000/c+Tr)/Ts)\n",
    "Nf = 2**nextpow2(Nk)\n",
    "tf_ori =  Ts*np.arange(-Nf/2,Nf/2-1)\n",
    "tf = 2*Rc/c+tf_ori"
   ]
  },
  {
   "cell_type": "code",
   "execution_count": 12,
   "id": "795001c5",
   "metadata": {},
   "outputs": [],
   "source": [
    "La = 6\n",
    "Ls = R0*lamda/La*np.cos(alpha)\n",
    "Ta = Ls/Vr\n",
    "Ka = -2*Vr**2*(np.cos(alpha))**2/(lamda*R0)\n",
    "Ba = 2*Vr*np.cos(alpha)/La\n",
    "PRF = math.ceil(1.2*Ba)\n",
    "PRT = 1/PRF\n",
    "Ns = 2^nextpow2((200/Vr+Ta)*PRF)\n",
    "ts = np.arange(-Nf/2,Nf/2-1) * PRT\n",
    "fdc = 2*Vr*np.sin(alpha)/lamda\n",
    "fdc_ref=fdc\n",
    "rho_r=c/2/Br\n",
    "rho_a=Vr*PRT\n"
   ]
  },
  {
   "cell_type": "code",
   "execution_count": 26,
   "id": "ab78aa82",
   "metadata": {},
   "outputs": [
    {
     "name": "stdout",
     "output_type": "stream",
     "text": [
      "[ 0.06098123  0.08915024  0.         -0.08914716 -0.06097815]\n",
      "5\n"
     ]
    }
   ],
   "source": [
    "X0 = np.array([Xc-100,Xc+100,Xc,Xc-100,Xc+100])\n",
    "Z0 = np.array([0,0,0,0,0])\n",
    "Y0 = np.array([Yc+100,Yc+100,Yc,Yc-100,Yc-100])\n",
    "eta_c=(X0-np.sqrt(H**2+Y0**2)*np.tan(alpha))/Vr\n",
    "print(eta_c)\n",
    "NT = np.size(X0,0)\n",
    "print(NT)"
   ]
  },
  {
   "cell_type": "code",
   "execution_count": 28,
   "id": "98b13585",
   "metadata": {},
   "outputs": [
    {
     "ename": "TypeError",
     "evalue": "ufunc 'bitwise_xor' not supported for the input types, and the inputs could not be safely coerced to any supported types according to the casting rule ''safe''",
     "output_type": "error",
     "traceback": [
      "\u001b[0;31m---------------------------------------------------------------------------\u001b[0m",
      "\u001b[0;31mTypeError\u001b[0m                                 Traceback (most recent call last)",
      "Input \u001b[0;32mIn [28]\u001b[0m, in \u001b[0;36m<cell line: 3>\u001b[0;34m()\u001b[0m\n\u001b[1;32m      2\u001b[0m sigma \u001b[38;5;241m=\u001b[39m \u001b[38;5;241m1\u001b[39m\n\u001b[1;32m      3\u001b[0m \u001b[38;5;28;01mfor\u001b[39;00m ii \u001b[38;5;129;01min\u001b[39;00m \u001b[38;5;28mrange\u001b[39m(\u001b[38;5;241m1\u001b[39m,NT):\n\u001b[0;32m----> 4\u001b[0m     R \u001b[38;5;241m=\u001b[39m np\u001b[38;5;241m.\u001b[39msqrt(\u001b[43m(\u001b[49m\u001b[43mVr\u001b[49m\u001b[38;5;241;43m*\u001b[39;49m\u001b[43mts\u001b[49m\u001b[38;5;241;43m-\u001b[39;49m\u001b[43mX0\u001b[49m\u001b[43m[\u001b[49m\u001b[43mii\u001b[49m\u001b[43m]\u001b[49m\u001b[43m)\u001b[49m\u001b[38;5;241;43m^\u001b[39;49m\u001b[38;5;241;43m2\u001b[39;49m\u001b[38;5;241;43m+\u001b[39;49m\u001b[43mY0\u001b[49m\u001b[43m[\u001b[49m\u001b[43mii\u001b[49m\u001b[43m]\u001b[49m\u001b[38;5;241m^\u001b[39m\u001b[38;5;241m2\u001b[39m\u001b[38;5;241m+\u001b[39m(Z0[ii]\u001b[38;5;241m-\u001b[39mH)\u001b[38;5;241m^\u001b[39m\u001b[38;5;241m2\u001b[39m)\n\u001b[1;32m      5\u001b[0m     tau \u001b[38;5;241m=\u001b[39m \u001b[38;5;241m2\u001b[39m\u001b[38;5;241m*\u001b[39mR\u001b[38;5;241m/\u001b[39mc\n\u001b[1;32m      6\u001b[0m     Dfast \u001b[38;5;241m=\u001b[39m np\u001b[38;5;241m.\u001b[39mones(Ns,\u001b[38;5;241m1\u001b[39m)\u001b[38;5;241m*\u001b[39mtf \u001b[38;5;241m-\u001b[39m tau\u001b[38;5;241m.\u001b[39mT\u001b[38;5;241m*\u001b[39mnp\u001b[38;5;241m.\u001b[39mones(\u001b[38;5;241m1\u001b[39m, Nf)\n",
      "\u001b[0;31mTypeError\u001b[0m: ufunc 'bitwise_xor' not supported for the input types, and the inputs could not be safely coerced to any supported types according to the casting rule ''safe''"
     ]
    }
   ],
   "source": [
    "Sb = np.zeros(Ns,Nf)\n",
    "sigma = 1\n",
    "for ii in range(1,NT):\n",
    "    R = np.sqrt((Vr*ts-X0[ii])^2+Y0[ii]^2+(Z0[ii]-H)^2)\n",
    "    tau = 2*R/c\n",
    "    Dfast = np.ones(Ns,1)*tf - tau.T*np.ones(1, Nf)\n",
    "    phase = np.pi*Kr*Dfast**2-(2*np.pi*f0*tau.T)*np.ones(1,Nf)\n",
    "    Sb = Sb+sigma*np.exp(1j*phase)*(np.abs(Dfast)<=Tr/2)*((abs(ts-eta_c(ii)) <=Ta/2).T*np.ones(1,Nf))\n",
    "import matplotlib.pyplot as plt\n",
    "plt.imshow(real(Sb),cmap='gray')\n",
    "plt.colorbar()\n",
    "    \n"
   ]
  },
  {
   "cell_type": "code",
   "execution_count": null,
   "id": "571f943a",
   "metadata": {},
   "outputs": [],
   "source": []
  }
 ],
 "metadata": {
  "kernelspec": {
   "display_name": "Python 3 (ipykernel)",
   "language": "python",
   "name": "python3"
  },
  "language_info": {
   "codemirror_mode": {
    "name": "ipython",
    "version": 3
   },
   "file_extension": ".py",
   "mimetype": "text/x-python",
   "name": "python",
   "nbconvert_exporter": "python",
   "pygments_lexer": "ipython3",
   "version": "3.9.12"
  }
 },
 "nbformat": 4,
 "nbformat_minor": 5
}
