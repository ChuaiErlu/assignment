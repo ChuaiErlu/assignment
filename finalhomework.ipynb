{
 "cells": [
  {
   "cell_type": "code",
   "execution_count": 1,
   "id": "0a75c240",
   "metadata": {},
   "outputs": [],
   "source": [
    "import numpy as np\n",
    "import matplotlib.pyplot as plt\n",
    "from scipy.io import savemat\n",
    "from scipy import linalg\n",
    "from scipy.io import loadmat"
   ]
  },
  {
   "cell_type": "code",
   "execution_count": 2,
   "id": "be8bebab",
   "metadata": {},
   "outputs": [
    {
     "name": "stdout",
     "output_type": "stream",
     "text": [
      "(16, 16)\n"
     ]
    },
    {
     "data": {
      "text/plain": [
       "<matplotlib.colorbar.Colorbar at 0x14778fcd1280>"
      ]
     },
     "execution_count": 2,
     "metadata": {},
     "output_type": "execute_result"
    },
    {
     "data": {
      "image/png": "[encoded data removed]",
      "text/plain": [
       "<Figure size 432x288 with 2 Axes>"
      ]
     },
     "metadata": {
      "needs_background": "light"
     },
     "output_type": "display_data"
    }
   ],
   "source": [
    "X = np.array([[0.0,0,0,0,0,0,0,0,0,0,0,0,0,0,0,0],\\\n",
    "              [0,0,0,0,0,0,0,0,0,0,0,0,0,0,0,0],\\\n",
    "              [0,0,0,0,0,0,0,0,0,0,0,0,0,0,0,0],\\\n",
    "              [0,0,0,0,0,0,0,0,0,0,0,0,0,0,0,0],\\\n",
    "              [0,0,0,0,0,0,0,0,0,0,0,0,0,0,0,0],\\\n",
    "              [0,0,0,0,0,0,0,0,0,0,0,0,0,0,0,0],\\\n",
    "              [0,0,0,0,0,0,0,1,0,0,0,0,0,0,0,0],\\\n",
    "              [0,0,0,0,0,0,0,0,0,0,0,0,0,0,0,0],\\\n",
    "              [0,0,0,0,0,0,0,0,0,0,0,0,0,0,0,0],\\\n",
    "              [0,0,0,0,0,0,0,0,0,0,0,0,0,0,0,0],\\\n",
    "              [0,0,0,0,0,0,0,0,0,0,0,0,0,0,0,0],\\\n",
    "              [0,0,0,0,0,0,0,0,0,0,0,0,0,0,0,0],\\\n",
    "              [0,0,0,0,0,0,0,0,0,0,0,0,0,0,0,0],\\\n",
    "              [0,0,0,0,0,0,0,0,0,0,0,0,0,0,0,0],\\\n",
    "              [0,0,0,0,0,0,0,0,0,0,0,0,0,0,0,0],\\\n",
    "              [0,0,0,0,0,0,0,0,0,0,0,0,0,0,0,0]])\n",
    "print(X.shape)\n",
    "plt.imshow(X,cmap='gray')\n",
    "plt.colorbar()"
   ]
  },
  {
   "cell_type": "code",
   "execution_count": 3,
   "id": "81435a64",
   "metadata": {},
   "outputs": [],
   "source": [
    "def cal_pathmtrx(row1, column1, row2, column2):\n",
    "    A = np.zeros((16,16))\n",
    "    introw1 = int(row1)\n",
    "    introw2 = int(row2)\n",
    "    intcolumn1 = int(column1)\n",
    "    intcolumn2 = int(column2)\n",
    "    if introw1 == introw2:\n",
    "        A[introw1,:]=1\n",
    "    elif intcolumn1 == intcolumn2:\n",
    "        A[:,intcolumn1]=1\n",
    "    elif ((introw2-introw1)/(intcolumn2-intcolumn1) != 1) & ((introw2-introw1)/(intcolumn2-intcolumn1) != -1):\n",
    "        print('ERROR:K is not 1/-1')\n",
    "    else:\n",
    "        k = int((introw2-introw1)/(intcolumn2-intcolumn1))\n",
    "        print(k)\n",
    "        tol = abs(introw1-introw2)\n",
    "        for i in range(tol+1): \n",
    "            row3 = int(introw1 + i*(introw2-introw1)/tol)\n",
    "            column3 = int(intcolumn1 + i*(intcolumn2-intcolumn1)/tol)\n",
    "            A[row3,column3] = np.sqrt(2)\n",
    "        print(row3,column3)\n",
    "#         print(A)\n",
    "    return A"
   ]
  },
  {
   "cell_type": "code",
   "execution_count": 4,
   "id": "abcda587",
   "metadata": {},
   "outputs": [],
   "source": [
    "A1 = cal_pathmtrx(row1=0,column1=0,row2=0,column2=15)\n",
    "A2 = cal_pathmtrx(row1=1,column1=0,row2=1,column2=15)\n",
    "A3 = cal_pathmtrx(row1=2,column1=0,row2=2,column2=15)\n",
    "A4 = cal_pathmtrx(row1=3,column1=0,row2=3,column2=15)\n",
    "A5 = cal_pathmtrx(row1=4,column1=0,row2=4,column2=15)\n",
    "A6 = cal_pathmtrx(row1=5,column1=0,row2=5,column2=15)\n",
    "A7 = cal_pathmtrx(row1=6,column1=0,row2=6,column2=15)\n",
    "A8 = cal_pathmtrx(row1=7,column1=0,row2=7,column2=15)\n",
    "A9 = cal_pathmtrx(row1=8,column1=0,row2=8,column2=15)\n",
    "A10 = cal_pathmtrx(row1=9,column1=0,row2=9,column2=15)\n",
    "A11 = cal_pathmtrx(row1=10,column1=0,row2=10,column2=15)\n",
    "A12 = cal_pathmtrx(row1=11,column1=0,row2=11,column2=15)\n",
    "A13 = cal_pathmtrx(row1=12,column1=0,row2=12,column2=15)\n",
    "A14 = cal_pathmtrx(row1=13,column1=0,row2=13,column2=15)\n",
    "A15 = cal_pathmtrx(row1=14,column1=0,row2=14,column2=15)\n",
    "A16 = cal_pathmtrx(row1=15,column1=0,row2=15,column2=15)\n",
    "A17 = cal_pathmtrx(row1=0,column1=0,row2=15,column2=0)\n",
    "A18 = cal_pathmtrx(row1=0,column1=1,row2=15,column2=1)\n",
    "A19 = cal_pathmtrx(row1=0,column1=2,row2=15,column2=2)\n",
    "A20 = cal_pathmtrx(row1=0,column1=3,row2=15,column2=3)\n",
    "A21 = cal_pathmtrx(row1=0,column1=4,row2=15,column2=4)\n",
    "A22 = cal_pathmtrx(row1=0,column1=5,row2=15,column2=5)\n",
    "A23 = cal_pathmtrx(row1=0,column1=6,row2=15,column2=6)\n",
    "A24 = cal_pathmtrx(row1=0,column1=7,row2=15,column2=7)\n",
    "A25 = cal_pathmtrx(row1=0,column1=8,row2=15,column2=8)\n",
    "A26 = cal_pathmtrx(row1=0,column1=9,row2=15,column2=9)\n",
    "A27 = cal_pathmtrx(row1=0,column1=10,row2=15,column2=10)\n",
    "A28 = cal_pathmtrx(row1=0,column1=11,row2=15,column2=11)\n",
    "A29 = cal_pathmtrx(row1=0,column1=12,row2=15,column2=12)\n",
    "A30 = cal_pathmtrx(row1=0,column1=13,row2=15,column2=13)\n",
    "A31 = cal_pathmtrx(row1=0,column1=14,row2=15,column2=14)\n",
    "A32 = cal_pathmtrx(row1=0,column1=15,row2=15,column2=15)\n",
    "# A33 = cal_pathmtrx(row1=0,column1=0,row2=15,column2=15)\n",
    "# A34 = cal_pathmtrx(row1=0,column1=15,row2=15,column2=0)\n",
    "# A35 = cal_pathmtrx(row1=0,column1=1,row2=14,column2=15)\n",
    "# A36 = cal_pathmtrx(row1=1,column1=0,row2=15,column2=14)\n",
    "# A37 = cal_pathmtrx(row1=2,column1=0,row2=15,column2=13)\n",
    "# A38 = cal_pathmtrx(row1=3,column1=0,row2=15,column2=12)\n",
    "# A39 = cal_pathmtrx(row1=4,column1=0,row2=15,column2=11)\n",
    "# A40 = cal_pathmtrx(row1=5,column1=0,row2=15,column2=10)\n",
    "# A41 = cal_pathmtrx(row1=6,column1=0,row2=15,column2=9)\n",
    "# A42 = cal_pathmtrx(row1=7,column1=0,row2=15,column2=8)\n",
    "# A43 = cal_pathmtrx(row1=8,column1=0,row2=15,column2=7)\n",
    "# A44 = cal_pathmtrx(row1=0,column1=2,row2=13,column2=15)\n",
    "# A45 = cal_pathmtrx(row1=0,column1=3,row2=12,column2=15)\n",
    "# A46 = cal_pathmtrx(row1=0,column1=4,row2=11,column2=15)\n",
    "# A47 = cal_pathmtrx(row1=0,column1=5,row2=10,column2=15)\n",
    "# A48 = cal_pathmtrx(row1=0,column1=6,row2=9,column2=15)"
   ]
  },
  {
   "cell_type": "code",
   "execution_count": 5,
   "id": "7e7bf224",
   "metadata": {},
   "outputs": [
    {
     "name": "stdout",
     "output_type": "stream",
     "text": [
      "[[1. 1. 1. ... 0. 0. 0.]\n",
      " [0. 0. 0. ... 0. 0. 0.]\n",
      " [0. 0. 0. ... 0. 0. 0.]\n",
      " ...\n",
      " [0. 0. 0. ... 1. 0. 0.]\n",
      " [0. 0. 0. ... 0. 1. 0.]\n",
      " [0. 0. 0. ... 0. 0. 1.]]\n",
      "(32, 256)\n"
     ]
    }
   ],
   "source": [
    "newA1 = A1.reshape(1,256)\n",
    "# print(newA1)\n",
    "newA2 = A2.reshape(1,256)\n",
    "newA3 = A3.reshape(1,256)\n",
    "newA4 = A4.reshape(1,256)\n",
    "newA5 = A5.reshape(1,256)\n",
    "newA6 = A6.reshape(1,256)\n",
    "newA7 = A7.reshape(1,256)\n",
    "newA8 = A8.reshape(1,256)\n",
    "newA9 = A9.reshape(1,256)\n",
    "newA10 = A10.reshape(1,256)\n",
    "newA11 = A11.reshape(1,256)\n",
    "newA12 = A12.reshape(1,256)\n",
    "newA13 = A13.reshape(1,256)\n",
    "newA14 = A14.reshape(1,256)\n",
    "newA15 = A15.reshape(1,256)\n",
    "newA16 = A16.reshape(1,256)\n",
    "newA17 = A17.reshape(1,256)\n",
    "newA18 = A18.reshape(1,256)\n",
    "newA19 = A19.reshape(1,256)\n",
    "newA20 = A20.reshape(1,256)\n",
    "newA21 = A21.reshape(1,256)\n",
    "newA22 = A22.reshape(1,256)\n",
    "newA23 = A23.reshape(1,256)\n",
    "newA24 = A24.reshape(1,256)\n",
    "newA25 = A25.reshape(1,256)\n",
    "newA26 = A26.reshape(1,256)\n",
    "newA27 = A27.reshape(1,256)\n",
    "newA28 = A28.reshape(1,256)\n",
    "newA29 = A29.reshape(1,256)\n",
    "newA30 = A30.reshape(1,256)\n",
    "newA31 = A31.reshape(1,256)\n",
    "newA32 = A32.reshape(1,256)\n",
    "# newA33 = A33.reshape(1,256)\n",
    "# newA34 = A34.reshape(1,256)\n",
    "# newA35 = A35.reshape(1,256)\n",
    "# newA36 = A36.reshape(1,256)\n",
    "# newA37 = A37.reshape(1,256)\n",
    "# newA38 = A38.reshape(1,256)\n",
    "# newA39 = A39.reshape(1,256)\n",
    "# newA40 = A40.reshape(1,256)\n",
    "# newA41 = A41.reshape(1,256)\n",
    "# newA42 = A42.reshape(1,256)\n",
    "# newA43 = A43.reshape(1,256)\n",
    "# newA44 = A44.reshape(1,256)\n",
    "# newA45 = A45.reshape(1,256)\n",
    "# newA46 = A46.reshape(1,256)\n",
    "# newA47 = A47.reshape(1,256)\n",
    "# newA48 = A48.reshape(1,256)\n",
    "# A = np.concatenate((newA1,newA2,newA3,newA4,newA5,newA6,newA7,newA8,newA9,newA10,newA11,newA12,\\\n",
    "#                    newA13,newA14,newA15,newA16,newA17,newA18,newA19,newA20,newA21,newA22,newA23,\\\n",
    "#                    newA24,newA25,newA26,newA27,newA28,newA29,newA30,newA31,newA32,newA33,newA34,\\\n",
    "#                    newA35,newA36,newA37,newA38,newA39,newA40,newA41,newA42,newA43,newA44,newA45,\\\n",
    "#                    newA46,newA47,newA48))\n",
    "A = np.concatenate((newA1,newA2,newA3,newA4,newA5,newA6,newA7,newA8,newA9,newA10,newA11,newA12,\\\n",
    "                   newA13,newA14,newA15,newA16,newA17,newA18,newA19,newA20,newA21,newA22,newA23,\\\n",
    "                   newA24,newA25,newA26,newA27,newA28,newA29,newA30,newA31,newA32))\n",
    "print(A)\n",
    "print(A.shape)"
   ]
  },
  {
   "cell_type": "code",
   "execution_count": 6,
   "id": "ed186d40",
   "metadata": {},
   "outputs": [
    {
     "name": "stdout",
     "output_type": "stream",
     "text": [
      "(256, 1)\n"
     ]
    }
   ],
   "source": [
    "X = X.reshape(256,1)\n",
    "print(X.shape)"
   ]
  },
  {
   "cell_type": "code",
   "execution_count": 7,
   "id": "6f415edc",
   "metadata": {},
   "outputs": [
    {
     "name": "stdout",
     "output_type": "stream",
     "text": [
      "(32, 1)\n",
      "[[0.]\n",
      " [0.]\n",
      " [0.]\n",
      " [0.]\n",
      " [0.]\n",
      " [0.]\n",
      " [1.]\n",
      " [0.]\n",
      " [0.]\n",
      " [0.]\n",
      " [0.]\n",
      " [0.]\n",
      " [0.]\n",
      " [0.]\n",
      " [0.]\n",
      " [0.]\n",
      " [0.]\n",
      " [0.]\n",
      " [0.]\n",
      " [0.]\n",
      " [0.]\n",
      " [0.]\n",
      " [0.]\n",
      " [1.]\n",
      " [0.]\n",
      " [0.]\n",
      " [0.]\n",
      " [0.]\n",
      " [0.]\n",
      " [0.]\n",
      " [0.]\n",
      " [0.]]\n"
     ]
    }
   ],
   "source": [
    "Y = np.dot(A,X)\n",
    "print(Y.shape)\n",
    "print(Y)"
   ]
  },
  {
   "cell_type": "code",
   "execution_count": 8,
   "id": "6632ff2c",
   "metadata": {},
   "outputs": [],
   "source": [
    "def SVD(A, n: int):\n",
    "    # 这里的n就是奇异值的个数，即中间的矩阵的维度；一般n越大效果越好\n",
    "    M = np.dot(A, A.T)\n",
    "    eigval, eigvec = np.linalg.eig(M)\n",
    "    indexes = np.argsort(-eigval)[:n]\n",
    "    U = eigvec[:, indexes]\n",
    "    sigma_sq = eigval[indexes]\n",
    "    M = np.dot(A.T, A)\n",
    "    eigval, eigvec = np.linalg.eig(M)\n",
    "    indexes = np.argsort(-eigval)[:n]\n",
    "    V = eigvec[:, indexes]\n",
    "    sigma = np.diag(np.sqrt(sigma_sq))\n",
    "    return U, sigma, V"
   ]
  },
  {
   "cell_type": "code",
   "execution_count": 9,
   "id": "ba79b97d",
   "metadata": {},
   "outputs": [],
   "source": [
    "U,S,V = SVD(A,256)"
   ]
  },
  {
   "cell_type": "code",
   "execution_count": 10,
   "id": "8895b427",
   "metadata": {},
   "outputs": [
    {
     "name": "stdout",
     "output_type": "stream",
     "text": [
      "(32, 32) (32, 32) (256, 256)\n"
     ]
    }
   ],
   "source": [
    "print(U.shape,S.shape,V.shape)"
   ]
  },
  {
   "cell_type": "code",
   "execution_count": 11,
   "id": "2cf76f0c",
   "metadata": {},
   "outputs": [],
   "source": [
    "V = np.real(V)\n",
    "S = np.real(S)\n",
    "U = np.real(U)"
   ]
  },
  {
   "cell_type": "code",
   "execution_count": 12,
   "id": "885db413",
   "metadata": {},
   "outputs": [
    {
     "name": "stdout",
     "output_type": "stream",
     "text": [
      "[[5.65685425e+00 0.00000000e+00 0.00000000e+00 ... 0.00000000e+00\n",
      "  0.00000000e+00 0.00000000e+00]\n",
      " [0.00000000e+00 4.00000000e+00 0.00000000e+00 ... 0.00000000e+00\n",
      "  0.00000000e+00 0.00000000e+00]\n",
      " [0.00000000e+00 0.00000000e+00 4.00000000e+00 ... 0.00000000e+00\n",
      "  0.00000000e+00 0.00000000e+00]\n",
      " ...\n",
      " [0.00000000e+00 0.00000000e+00 0.00000000e+00 ... 4.00000000e+00\n",
      "  0.00000000e+00 0.00000000e+00]\n",
      " [0.00000000e+00 0.00000000e+00 0.00000000e+00 ... 0.00000000e+00\n",
      "  4.00000000e+00 0.00000000e+00]\n",
      " [0.00000000e+00 0.00000000e+00 0.00000000e+00 ... 0.00000000e+00\n",
      "  0.00000000e+00 5.96046448e-08]]\n"
     ]
    }
   ],
   "source": [
    "print(S)"
   ]
  },
  {
   "cell_type": "code",
   "execution_count": 13,
   "id": "c1ad68b2",
   "metadata": {},
   "outputs": [
    {
     "name": "stdout",
     "output_type": "stream",
     "text": [
      "[[1.76776695e-01 0.00000000e+00 0.00000000e+00 ... 0.00000000e+00\n",
      "  0.00000000e+00 0.00000000e+00]\n",
      " [0.00000000e+00 2.50000000e-01 0.00000000e+00 ... 0.00000000e+00\n",
      "  0.00000000e+00 0.00000000e+00]\n",
      " [0.00000000e+00 0.00000000e+00 2.50000000e-01 ... 0.00000000e+00\n",
      "  0.00000000e+00 0.00000000e+00]\n",
      " ...\n",
      " [0.00000000e+00 0.00000000e+00 0.00000000e+00 ... 2.50000000e-01\n",
      "  0.00000000e+00 0.00000000e+00]\n",
      " [0.00000000e+00 0.00000000e+00 0.00000000e+00 ... 0.00000000e+00\n",
      "  2.50000000e-01 0.00000000e+00]\n",
      " [0.00000000e+00 0.00000000e+00 0.00000000e+00 ... 0.00000000e+00\n",
      "  0.00000000e+00 1.67772160e+07]]\n"
     ]
    }
   ],
   "source": [
    "S[0,0]=1./S[0,0]\n",
    "S[1,1]=1./S[1,1]\n",
    "S[2,2]=1./S[2,2]\n",
    "S[3,3]=1./S[3,3]\n",
    "S[4,4]=1./S[4,4]\n",
    "S[5,5]=1./S[5,5]\n",
    "S[6,6]=1./S[6,6]\n",
    "S[7,7]=1./S[7,7]\n",
    "S[8,8]=1./S[8,8]\n",
    "S[9,9]=1./S[9,9]\n",
    "S[10,10]=1./S[10,10]\n",
    "S[11,11]=1./S[11,11]\n",
    "S[12,12]=1./S[12,12]\n",
    "S[13,13]=1./S[13,13]\n",
    "S[14,14]=1./S[14,14]\n",
    "S[15,15]=1./S[15,15]\n",
    "S[16,16]=1./S[16,16]\n",
    "S[17,17]=1./S[17,17]\n",
    "S[18,18]=1./S[18,18]\n",
    "S[19,19]=1./S[19,19]\n",
    "S[20,20]=1./S[20,20]\n",
    "S[21,21]=1./S[21,21]\n",
    "S[22,22]=1./S[22,22]\n",
    "S[23,23]=1./S[23,23]\n",
    "S[24,24]=1./S[24,24]\n",
    "S[25,25]=1./S[25,25]\n",
    "S[26,26]=1./S[26,26]\n",
    "S[27,27]=1./S[27,27]\n",
    "S[28,28]=1./S[28,28]\n",
    "S[29,29]=1./S[29,29]\n",
    "S[30,30]=1./S[30,30]\n",
    "S[31,31]=1./S[31,31]\n",
    "# S[32,32]=1./S[32,32]\n",
    "# S[33,33]=1./S[33,33]\n",
    "# S[34,34]=1./S[34,34]\n",
    "# S[35,35]=1./S[35,35]\n",
    "# S[36,36]=1./S[36,36]\n",
    "# S[37,37]=1./S[37,37]\n",
    "# S[38,38]=1./S[38,38]\n",
    "# S[39,39]=1./S[39,39]\n",
    "# S[40,40]=1./S[40,40]\n",
    "# S[41,41]=1./S[41,41]\n",
    "# S[42,42]=1./S[42,42]\n",
    "# S[43,43]=1./S[43,43]\n",
    "# S[44,44]=1./S[44,44]\n",
    "# S[45,45]=1./S[45,45]\n",
    "# S[46,46]=1./S[46,46]\n",
    "# S[47,47]=1./S[47,47]\n",
    "print(S)"
   ]
  },
  {
   "cell_type": "code",
   "execution_count": 14,
   "id": "a7a2d36a",
   "metadata": {},
   "outputs": [
    {
     "name": "stdout",
     "output_type": "stream",
     "text": [
      "[[0.1767767 0.        0.        ... 0.        0.        0.       ]\n",
      " [0.        0.25      0.        ... 0.        0.        0.       ]\n",
      " [0.        0.        0.25      ... 0.        0.        0.       ]\n",
      " ...\n",
      " [0.        0.        0.        ... 0.        0.        0.       ]\n",
      " [0.        0.        0.        ... 0.        0.        0.       ]\n",
      " [0.        0.        0.        ... 0.        0.        0.       ]]\n",
      "(256, 32)\n"
     ]
    }
   ],
   "source": [
    "apd = np.zeros((224,32))\n",
    "S = np.r_[S,apd]\n",
    "print(S)\n",
    "print(S.shape)"
   ]
  },
  {
   "cell_type": "code",
   "execution_count": 15,
   "id": "78b69b62",
   "metadata": {},
   "outputs": [
    {
     "name": "stdout",
     "output_type": "stream",
     "text": [
      "(256, 32)\n"
     ]
    }
   ],
   "source": [
    "S_ = S\n",
    "A_ = np.dot(np.dot(V.T, S_), U.T)\n",
    "print(A_.shape)"
   ]
  },
  {
   "cell_type": "code",
   "execution_count": 16,
   "id": "f67300b1",
   "metadata": {},
   "outputs": [
    {
     "data": {
      "text/plain": [
       "<matplotlib.colorbar.Colorbar at 0x14778d325c10>"
      ]
     },
     "execution_count": 16,
     "metadata": {},
     "output_type": "execute_result"
    },
    {
     "data": {
      "image/png": "[encoded data removed]",
      "text/plain": [
       "<Figure size 432x288 with 2 Axes>"
      ]
     },
     "metadata": {
      "needs_background": "light"
     },
     "output_type": "display_data"
    }
   ],
   "source": [
    "Xest = np.dot(A_,Y)\n",
    "Xest = Xest.reshape(16,16)\n",
    "plt.imshow(Xest,cmap='gray',interpolation='nearest')\n",
    "plt.colorbar()"
   ]
  },
  {
   "cell_type": "code",
   "execution_count": 17,
   "id": "903a2131",
   "metadata": {},
   "outputs": [],
   "source": [
    "UU,SS,VV = np.linalg.svd(A,full_matrices=True)"
   ]
  },
  {
   "cell_type": "code",
   "execution_count": 18,
   "id": "999f2917",
   "metadata": {},
   "outputs": [
    {
     "name": "stdout",
     "output_type": "stream",
     "text": [
      "(32, 32) (32,) (256, 256)\n"
     ]
    }
   ],
   "source": [
    "print(UU.shape,SS.shape,VV.shape)"
   ]
  },
  {
   "cell_type": "code",
   "execution_count": 34,
   "id": "7b9388b2",
   "metadata": {},
   "outputs": [
    {
     "name": "stdout",
     "output_type": "stream",
     "text": [
      "[[ 1.76776695e-001 -1.50547780e-015  7.66646708e-020 ... -9.68245837e-001\n",
      "   2.11293457e-168  1.76776695e-001]\n",
      " [ 1.76776695e-001 -5.93486234e-001  3.06959106e-001 ...  6.45497224e-002\n",
      "  -2.92734835e-002  1.76776695e-001]\n",
      " [ 1.76776695e-001 -4.61382174e-003 -2.31386120e-001 ...  6.45497224e-002\n",
      "   2.11958727e-002  1.76776695e-001]\n",
      " ...\n",
      " [ 1.76776695e-001 -7.88252303e-002 -4.93494217e-002 ...  1.76941795e-016\n",
      "  -3.40182451e-001 -1.76776695e-001]\n",
      " [ 1.76776695e-001 -7.81842375e-002 -8.65393970e-002 ...  1.76941795e-016\n",
      "   1.02505890e-001 -1.76776695e-001]\n",
      " [ 1.76776695e-001 -1.58998056e-003 -6.00644210e-002 ... -1.04083409e-017\n",
      "  -1.06550452e-002 -1.76776695e-001]]\n",
      "(32, 32)\n"
     ]
    }
   ],
   "source": [
    "SS_ = np.zeros((256,32))\n",
    "for i in range(32):\n",
    "    SS_[i,i] = 1./SS[i]\n",
    "# print(SS_)\n",
    "# print(SS_.shape)\n",
    "print(UU)\n",
    "print(UU.shape)"
   ]
  },
  {
   "cell_type": "code",
   "execution_count": 35,
   "id": "b86135a4",
   "metadata": {},
   "outputs": [
    {
     "name": "stdout",
     "output_type": "stream",
     "text": [
      "[[ 1.61728395e+14  1.61728395e+14  1.61728395e+14 ... -1.61728395e+14\n",
      "  -1.61728395e+14 -1.61728395e+14]\n",
      " [-1.56975170e+14 -1.56975170e+14 -1.56975170e+14 ...  1.56975170e+14\n",
      "   1.56975170e+14  1.56975170e+14]\n",
      " [-8.98604736e+12 -8.98604736e+12 -8.98604736e+12 ...  8.98604736e+12\n",
      "   8.98604736e+12  8.98604736e+12]\n",
      " ...\n",
      " [ 1.30813418e+12  1.30813418e+12  1.30813418e+12 ... -1.30813418e+12\n",
      "  -1.30813418e+12 -1.30813418e+12]\n",
      " [-9.64458943e+12 -9.64458943e+12 -9.64458943e+12 ...  9.64458943e+12\n",
      "   9.64458943e+12  9.64458943e+12]\n",
      " [ 1.25303981e+13  1.25303981e+13  1.25303981e+13 ... -1.25303981e+13\n",
      "  -1.25303981e+13 -1.25303981e+13]]\n",
      "(256, 32)\n"
     ]
    },
    {
     "data": {
      "text/plain": [
       "<matplotlib.colorbar.Colorbar at 0x14778cec0fa0>"
      ]
     },
     "execution_count": 35,
     "metadata": {},
     "output_type": "execute_result"
    },
    {
     "data": {
      "image/png": "[encoded data removed]",
      "text/plain": [
       "<Figure size 432x288 with 2 Axes>"
      ]
     },
     "metadata": {
      "needs_background": "light"
     },
     "output_type": "display_data"
    }
   ],
   "source": [
    "AA_ = np.dot(np.dot(VV.T, SS_), U.T)\n",
    "print(AA_)\n",
    "print(AA_.shape)\n",
    "Xest1 = np.dot(AA_,Y)\n",
    "Xest1 = Xest1.reshape(16,16)\n",
    "plt.imshow(Xest1,cmap='gray',interpolation='nearest')\n",
    "plt.colorbar()"
   ]
  },
  {
   "cell_type": "code",
   "execution_count": 27,
   "id": "114b46ac",
   "metadata": {},
   "outputs": [
    {
     "data": {
      "text/plain": [
       "<matplotlib.colorbar.Colorbar at 0x14778d2cf400>"
      ]
     },
     "execution_count": 27,
     "metadata": {},
     "output_type": "execute_result"
    },
    {
     "data": {
      "image/png": "[encoded data removed]",
      "text/plain": [
       "<Figure size 432x288 with 2 Axes>"
      ]
     },
     "metadata": {
      "needs_background": "light"
     },
     "output_type": "display_data"
    }
   ],
   "source": [
    "AAA_ = np.linalg.pinv(A)\n",
    "Xest2 = np.dot(AAA_,Y)\n",
    "Xest2 = Xest2.reshape(16,16)\n",
    "plt.imshow(Xest2,cmap='gray')\n",
    "plt.colorbar()"
   ]
  },
  {
   "cell_type": "code",
   "execution_count": 28,
   "id": "fa0c04d5",
   "metadata": {},
   "outputs": [
    {
     "name": "stdout",
     "output_type": "stream",
     "text": [
      "[[0. 0. 0. 0. 0. 0. 0. 0. 0. 0. 0. 0. 0. 0. 0. 0.]\n",
      " [0. 0. 0. 0. 0. 0. 0. 0. 0. 0. 0. 0. 0. 0. 0. 0.]\n",
      " [0. 0. 0. 0. 0. 0. 0. 0. 0. 0. 0. 0. 0. 0. 0. 0.]\n",
      " [0. 0. 0. 0. 0. 0. 0. 0. 0. 0. 0. 0. 0. 0. 0. 0.]\n",
      " [1. 1. 1. 1. 1. 1. 1. 1. 1. 1. 1. 1. 1. 1. 1. 1.]\n",
      " [0. 0. 0. 0. 0. 0. 0. 0. 0. 0. 0. 0. 0. 0. 0. 0.]\n",
      " [0. 0. 0. 0. 0. 0. 0. 0. 0. 0. 0. 0. 0. 0. 0. 0.]\n",
      " [0. 0. 0. 0. 0. 0. 0. 0. 0. 0. 0. 0. 0. 0. 0. 0.]\n",
      " [0. 0. 0. 0. 0. 0. 0. 0. 0. 0. 0. 0. 0. 0. 0. 0.]\n",
      " [0. 0. 0. 0. 0. 0. 0. 0. 0. 0. 0. 0. 0. 0. 0. 0.]\n",
      " [0. 0. 0. 0. 0. 0. 0. 0. 0. 0. 0. 0. 0. 0. 0. 0.]\n",
      " [0. 0. 0. 0. 0. 0. 0. 0. 0. 0. 0. 0. 0. 0. 0. 0.]\n",
      " [0. 0. 0. 0. 0. 0. 0. 0. 0. 0. 0. 0. 0. 0. 0. 0.]\n",
      " [0. 0. 0. 0. 0. 0. 0. 0. 0. 0. 0. 0. 0. 0. 0. 0.]\n",
      " [0. 0. 0. 0. 0. 0. 0. 0. 0. 0. 0. 0. 0. 0. 0. 0.]\n",
      " [0. 0. 0. 0. 0. 0. 0. 0. 0. 0. 0. 0. 0. 0. 0. 0.]]\n"
     ]
    }
   ],
   "source": [
    "print(A5)"
   ]
  },
  {
   "cell_type": "code",
   "execution_count": 29,
   "id": "6a9a53dc",
   "metadata": {},
   "outputs": [
    {
     "name": "stdout",
     "output_type": "stream",
     "text": [
      "[[0. 0. 0. 0. 0. 0. 0. 0. 0. 0. 0. 0. 0. 0. 0. 0.]\n",
      " [0. 0. 0. 0. 0. 0. 0. 0. 0. 0. 0. 0. 0. 0. 0. 0.]\n",
      " [0. 0. 0. 0. 0. 0. 0. 0. 0. 0. 0. 0. 0. 0. 0. 0.]\n",
      " [0. 0. 0. 0. 0. 0. 0. 0. 0. 0. 0. 0. 0. 0. 0. 0.]\n",
      " [0. 0. 0. 0. 0. 0. 0. 0. 0. 0. 0. 0. 0. 0. 0. 0.]\n",
      " [1. 1. 1. 1. 1. 1. 1. 1. 1. 1. 1. 1. 1. 1. 1. 1.]\n",
      " [0. 0. 0. 0. 0. 0. 0. 0. 0. 0. 0. 0. 0. 0. 0. 0.]\n",
      " [0. 0. 0. 0. 0. 0. 0. 0. 0. 0. 0. 0. 0. 0. 0. 0.]\n",
      " [0. 0. 0. 0. 0. 0. 0. 0. 0. 0. 0. 0. 0. 0. 0. 0.]\n",
      " [0. 0. 0. 0. 0. 0. 0. 0. 0. 0. 0. 0. 0. 0. 0. 0.]\n",
      " [0. 0. 0. 0. 0. 0. 0. 0. 0. 0. 0. 0. 0. 0. 0. 0.]\n",
      " [0. 0. 0. 0. 0. 0. 0. 0. 0. 0. 0. 0. 0. 0. 0. 0.]\n",
      " [0. 0. 0. 0. 0. 0. 0. 0. 0. 0. 0. 0. 0. 0. 0. 0.]\n",
      " [0. 0. 0. 0. 0. 0. 0. 0. 0. 0. 0. 0. 0. 0. 0. 0.]\n",
      " [0. 0. 0. 0. 0. 0. 0. 0. 0. 0. 0. 0. 0. 0. 0. 0.]\n",
      " [0. 0. 0. 0. 0. 0. 0. 0. 0. 0. 0. 0. 0. 0. 0. 0.]]\n"
     ]
    }
   ],
   "source": [
    "print(A6)"
   ]
  },
  {
   "cell_type": "code",
   "execution_count": 30,
   "id": "68746ab7",
   "metadata": {},
   "outputs": [
    {
     "name": "stdout",
     "output_type": "stream",
     "text": [
      "[[0. 0. 0. 0. 0. 0. 0. 0. 0. 0. 0. 0. 0. 0. 0. 0.]\n",
      " [0. 0. 0. 0. 0. 0. 0. 0. 0. 0. 0. 0. 0. 0. 0. 0.]\n",
      " [0. 0. 0. 0. 0. 0. 0. 0. 0. 0. 0. 0. 0. 0. 0. 0.]\n",
      " [0. 0. 0. 0. 0. 0. 0. 0. 0. 0. 0. 0. 0. 0. 0. 0.]\n",
      " [0. 0. 0. 0. 0. 0. 0. 0. 0. 0. 0. 0. 0. 0. 0. 0.]\n",
      " [0. 0. 0. 0. 0. 0. 0. 0. 0. 0. 0. 0. 0. 0. 0. 0.]\n",
      " [1. 1. 1. 1. 1. 1. 1. 1. 1. 1. 1. 1. 1. 1. 1. 1.]\n",
      " [0. 0. 0. 0. 0. 0. 0. 0. 0. 0. 0. 0. 0. 0. 0. 0.]\n",
      " [0. 0. 0. 0. 0. 0. 0. 0. 0. 0. 0. 0. 0. 0. 0. 0.]\n",
      " [0. 0. 0. 0. 0. 0. 0. 0. 0. 0. 0. 0. 0. 0. 0. 0.]\n",
      " [0. 0. 0. 0. 0. 0. 0. 0. 0. 0. 0. 0. 0. 0. 0. 0.]\n",
      " [0. 0. 0. 0. 0. 0. 0. 0. 0. 0. 0. 0. 0. 0. 0. 0.]\n",
      " [0. 0. 0. 0. 0. 0. 0. 0. 0. 0. 0. 0. 0. 0. 0. 0.]\n",
      " [0. 0. 0. 0. 0. 0. 0. 0. 0. 0. 0. 0. 0. 0. 0. 0.]\n",
      " [0. 0. 0. 0. 0. 0. 0. 0. 0. 0. 0. 0. 0. 0. 0. 0.]\n",
      " [0. 0. 0. 0. 0. 0. 0. 0. 0. 0. 0. 0. 0. 0. 0. 0.]]\n"
     ]
    }
   ],
   "source": [
    "print(A7)"
   ]
  },
  {
   "cell_type": "code",
   "execution_count": 31,
   "id": "a8a8bb77",
   "metadata": {},
   "outputs": [
    {
     "name": "stdout",
     "output_type": "stream",
     "text": [
      "[[1. 0. 0. 0. 0. 0. 0. 0. 0. 0. 0. 0. 0. 0. 0. 0.]\n",
      " [1. 0. 0. 0. 0. 0. 0. 0. 0. 0. 0. 0. 0. 0. 0. 0.]\n",
      " [1. 0. 0. 0. 0. 0. 0. 0. 0. 0. 0. 0. 0. 0. 0. 0.]\n",
      " [1. 0. 0. 0. 0. 0. 0. 0. 0. 0. 0. 0. 0. 0. 0. 0.]\n",
      " [1. 0. 0. 0. 0. 0. 0. 0. 0. 0. 0. 0. 0. 0. 0. 0.]\n",
      " [1. 0. 0. 0. 0. 0. 0. 0. 0. 0. 0. 0. 0. 0. 0. 0.]\n",
      " [1. 0. 0. 0. 0. 0. 0. 0. 0. 0. 0. 0. 0. 0. 0. 0.]\n",
      " [1. 0. 0. 0. 0. 0. 0. 0. 0. 0. 0. 0. 0. 0. 0. 0.]\n",
      " [1. 0. 0. 0. 0. 0. 0. 0. 0. 0. 0. 0. 0. 0. 0. 0.]\n",
      " [1. 0. 0. 0. 0. 0. 0. 0. 0. 0. 0. 0. 0. 0. 0. 0.]\n",
      " [1. 0. 0. 0. 0. 0. 0. 0. 0. 0. 0. 0. 0. 0. 0. 0.]\n",
      " [1. 0. 0. 0. 0. 0. 0. 0. 0. 0. 0. 0. 0. 0. 0. 0.]\n",
      " [1. 0. 0. 0. 0. 0. 0. 0. 0. 0. 0. 0. 0. 0. 0. 0.]\n",
      " [1. 0. 0. 0. 0. 0. 0. 0. 0. 0. 0. 0. 0. 0. 0. 0.]\n",
      " [1. 0. 0. 0. 0. 0. 0. 0. 0. 0. 0. 0. 0. 0. 0. 0.]\n",
      " [1. 0. 0. 0. 0. 0. 0. 0. 0. 0. 0. 0. 0. 0. 0. 0.]]\n"
     ]
    }
   ],
   "source": [
    "print(A17)"
   ]
  },
  {
   "cell_type": "code",
   "execution_count": 32,
   "id": "04d883c1",
   "metadata": {},
   "outputs": [
    {
     "name": "stdout",
     "output_type": "stream",
     "text": [
      "[[0. 1. 0. 0. 0. 0. 0. 0. 0. 0. 0. 0. 0. 0. 0. 0.]\n",
      " [0. 1. 0. 0. 0. 0. 0. 0. 0. 0. 0. 0. 0. 0. 0. 0.]\n",
      " [0. 1. 0. 0. 0. 0. 0. 0. 0. 0. 0. 0. 0. 0. 0. 0.]\n",
      " [0. 1. 0. 0. 0. 0. 0. 0. 0. 0. 0. 0. 0. 0. 0. 0.]\n",
      " [0. 1. 0. 0. 0. 0. 0. 0. 0. 0. 0. 0. 0. 0. 0. 0.]\n",
      " [0. 1. 0. 0. 0. 0. 0. 0. 0. 0. 0. 0. 0. 0. 0. 0.]\n",
      " [0. 1. 0. 0. 0. 0. 0. 0. 0. 0. 0. 0. 0. 0. 0. 0.]\n",
      " [0. 1. 0. 0. 0. 0. 0. 0. 0. 0. 0. 0. 0. 0. 0. 0.]\n",
      " [0. 1. 0. 0. 0. 0. 0. 0. 0. 0. 0. 0. 0. 0. 0. 0.]\n",
      " [0. 1. 0. 0. 0. 0. 0. 0. 0. 0. 0. 0. 0. 0. 0. 0.]\n",
      " [0. 1. 0. 0. 0. 0. 0. 0. 0. 0. 0. 0. 0. 0. 0. 0.]\n",
      " [0. 1. 0. 0. 0. 0. 0. 0. 0. 0. 0. 0. 0. 0. 0. 0.]\n",
      " [0. 1. 0. 0. 0. 0. 0. 0. 0. 0. 0. 0. 0. 0. 0. 0.]\n",
      " [0. 1. 0. 0. 0. 0. 0. 0. 0. 0. 0. 0. 0. 0. 0. 0.]\n",
      " [0. 1. 0. 0. 0. 0. 0. 0. 0. 0. 0. 0. 0. 0. 0. 0.]\n",
      " [0. 1. 0. 0. 0. 0. 0. 0. 0. 0. 0. 0. 0. 0. 0. 0.]]\n"
     ]
    }
   ],
   "source": [
    "print(A18)"
   ]
  },
  {
   "cell_type": "code",
   "execution_count": 33,
   "id": "1e887b4c",
   "metadata": {},
   "outputs": [
    {
     "name": "stdout",
     "output_type": "stream",
     "text": [
      "[[0. 0. 0. 0. 0. 0. 0. 0. 0. 0. 0. 0. 0. 0. 0. 1.]\n",
      " [0. 0. 0. 0. 0. 0. 0. 0. 0. 0. 0. 0. 0. 0. 0. 1.]\n",
      " [0. 0. 0. 0. 0. 0. 0. 0. 0. 0. 0. 0. 0. 0. 0. 1.]\n",
      " [0. 0. 0. 0. 0. 0. 0. 0. 0. 0. 0. 0. 0. 0. 0. 1.]\n",
      " [0. 0. 0. 0. 0. 0. 0. 0. 0. 0. 0. 0. 0. 0. 0. 1.]\n",
      " [0. 0. 0. 0. 0. 0. 0. 0. 0. 0. 0. 0. 0. 0. 0. 1.]\n",
      " [0. 0. 0. 0. 0. 0. 0. 0. 0. 0. 0. 0. 0. 0. 0. 1.]\n",
      " [0. 0. 0. 0. 0. 0. 0. 0. 0. 0. 0. 0. 0. 0. 0. 1.]\n",
      " [0. 0. 0. 0. 0. 0. 0. 0. 0. 0. 0. 0. 0. 0. 0. 1.]\n",
      " [0. 0. 0. 0. 0. 0. 0. 0. 0. 0. 0. 0. 0. 0. 0. 1.]\n",
      " [0. 0. 0. 0. 0. 0. 0. 0. 0. 0. 0. 0. 0. 0. 0. 1.]\n",
      " [0. 0. 0. 0. 0. 0. 0. 0. 0. 0. 0. 0. 0. 0. 0. 1.]\n",
      " [0. 0. 0. 0. 0. 0. 0. 0. 0. 0. 0. 0. 0. 0. 0. 1.]\n",
      " [0. 0. 0. 0. 0. 0. 0. 0. 0. 0. 0. 0. 0. 0. 0. 1.]\n",
      " [0. 0. 0. 0. 0. 0. 0. 0. 0. 0. 0. 0. 0. 0. 0. 1.]\n",
      " [0. 0. 0. 0. 0. 0. 0. 0. 0. 0. 0. 0. 0. 0. 0. 1.]]\n"
     ]
    }
   ],
   "source": [
    "print(A32)"
   ]
  },
  {
   "cell_type": "code",
   "execution_count": null,
   "id": "9ca5b89d",
   "metadata": {},
   "outputs": [],
   "source": []
  },
  {
   "cell_type": "code",
   "execution_count": null,
   "id": "7733e1f9",
   "metadata": {},
   "outputs": [],
   "source": []
  },
  {
   "cell_type": "code",
   "execution_count": null,
   "id": "d8575159",
   "metadata": {},
   "outputs": [],
   "source": []
  }
 ],
 "metadata": {
  "kernelspec": {
   "display_name": "Python 3 (ipykernel)",
   "language": "python",
   "name": "python3"
  },
  "language_info": {
   "codemirror_mode": {
    "name": "ipython",
    "version": 3
   },
   "file_extension": ".py",
   "mimetype": "text/x-python",
   "name": "python",
   "nbconvert_exporter": "python",
   "pygments_lexer": "ipython3",
   "version": "3.9.12"
  }
 },
 "nbformat": 4,
 "nbformat_minor": 5
}
